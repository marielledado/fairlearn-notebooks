{
 "cells": [
  {
   "cell_type": "markdown",
   "metadata": {},
   "source": [
    "# Analysis - Student Math Performance"
   ]
  },
  {
   "cell_type": "markdown",
   "metadata": {},
   "source": [
    "Original dataset: https://archive.ics.uci.edu/ml/datasets/student+performance\n",
    "\n",
    "#### Data Set Information:\n",
    "\n",
    "This data approach student achievement in secondary education of two Portuguese schools. The data attributes include student grades, demographic, social and school related features) and it was collected by using school reports and questionnaires. Two datasets are provided regarding the performance in two distinct subjects: Mathematics (mat) and Portuguese language (por). In [Cortez and Silva, 2008], the two datasets were modeled under binary/five-level classification and regression tasks. Important note: the target attribute G3 has a strong correlation with attributes G2 and G1. This occurs because G3 is the final year grade (issued at the 3rd period), while G1 and G2 correspond to the 1st and 2nd period grades. It is more difficult to predict G3 without G2 and G1, but such prediction is much more useful (see paper source for more details).\n",
    "\n",
    "### Attributes\n",
    "\n",
    "1 school - student's school (binary: 'GP' - Gabriel Pereira or 'MS' - Mousinho da Silveira)\n",
    "\n",
    "2 sex - student's sex (binary: 'F' - female or 'M' - male)\n",
    "\n",
    "3 age - student's age (numeric: from 15 to 22)\n",
    "\n",
    "4 address - student's home address type (binary: 'U' - urban or 'R' - rural)\n",
    "\n",
    "5 famsize - family size (binary: 'LE3' - less or equal to 3 or 'GT3' - greater than 3)\n",
    "\n",
    "6 Pstatus - parent's cohabitation status (binary: 'T' - living together or 'A' - apart)\n",
    "\n",
    "7 Medu - mother's education (numeric: 0 - none, 1 - primary education (4th grade), 2 â€“ 5th to 9th grade, 3 â€“ secondary education or 4 â€“ higher education)\n",
    "\n",
    "8 Fedu - father's education (numeric: 0 - none, 1 - primary education (4th grade), 2 â€“ 5th to 9th grade, 3 â€“ secondary education or 4 â€“ higher education)\n",
    "\n",
    "9 Mjob - mother's job (nominal: 'teacher', 'health' care related, civil 'services' (e.g. administrative or police), 'at_home' or 'other')\n",
    "\n",
    "10 Fjob - father's job (nominal: 'teacher', 'health' care related, civil 'services' (e.g. administrative or police), 'at_home' or 'other')\n",
    "\n",
    "11 reason - reason to choose this school (nominal: close to 'home', school 'reputation', 'course' preference or 'other')\n",
    "\n",
    "12 guardian - student's guardian (nominal: 'mother', 'father' or 'other')\n",
    "\n",
    "13 traveltime - home to school travel time (numeric: 1 - <15 min., 2 - 15 to 30 min., 3 - 30 min. to 1 hour, or 4 - >1 hour)\n",
    "\n",
    "14 studytime - weekly study time (numeric: 1 - <2 hours, 2 - 2 to 5 hours, 3 - 5 to 10 hours, or 4 - >10 hours)\n",
    "\n",
    "15 failures - number of past class failures (numeric: n if 1<=n<3, else 4)\n",
    "\n",
    "16 schoolsup - extra educational support (binary: yes or no)\n",
    "\n",
    "17 famsup - family educational support (binary: yes or no)\n",
    "\n",
    "18 paid - extra paid classes within the course subject (Math or Portuguese) (binary: yes or no)\n",
    "\n",
    "19 activities - extra-curricular activities (binary: yes or no)\n",
    "\n",
    "20 nursery - attended nursery school (binary: yes or no)\n",
    "\n",
    "21 higher - wants to take higher education (binary: yes or no)\n",
    "\n",
    "22 internet - Internet access at home (binary: yes or no)\n",
    "\n",
    "23 romantic - with a romantic relationship (binary: yes or no)\n",
    "\n",
    "24 famrel - quality of family relationships (numeric: from 1 - very bad to 5 - excellent)\n",
    "\n",
    "25 freetime - free time after school (numeric: from 1 - very low to 5 - very high)\n",
    "\n",
    "26 goout - going out with friends (numeric: from 1 - very low to 5 - very high)\n",
    "\n",
    "27 Dalc - workday alcohol consumption (numeric: from 1 - very low to 5 - very high)\n",
    "\n",
    "28 Walc - weekend alcohol consumption (numeric: from 1 - very low to 5 - very high)\n",
    "\n",
    "29 health - current health status (numeric: from 1 - very bad to 5 - very good)\n",
    "\n",
    "30 absences - number of school absences (numeric: from 0 to 93)\n",
    "\n",
    "### these grades are related with the course subject\n",
    "\n",
    "31 G1 - first period grade (numeric: from 0 to 20)\n",
    "\n",
    "31 G2 - second period grade (numeric: from 0 to 20)\n",
    "\n",
    "32 G3 - final grade (numeric: from 0 to 20, output target) -- **TARGET**"
   ]
  },
  {
   "cell_type": "code",
   "execution_count": 1,
   "metadata": {},
   "outputs": [
    {
     "data": {
      "application/javascript": [
       "\n",
       "            setTimeout(function() {\n",
       "                var nbb_cell_id = 1;\n",
       "                var nbb_unformatted_code = \"%load_ext nb_black\\n%matplotlib inline\\n\\nimport numpy as np\\nimport pandas as pd\\nimport matplotlib.pyplot as plt\\nimport seaborn as sns\\nfrom sklearn.model_selection import train_test_split\\nfrom sklearn.pipeline import make_pipeline\\nfrom sklearn.preprocessing import MinMaxScaler\\nfrom sklearn.metrics import roc_auc_score, plot_confusion_matrix, classification_report\\nfrom sklearn.model_selection import cross_val_score\\nfrom sklearn.linear_model import LogisticRegression\\nfrom sklearn.ensemble import RandomForestClassifier\\nimport ipywidgets as widgets\\n\\n\\nfrom fairlearn.reductions import GridSearch\\nfrom fairlearn.reductions import DemographicParity, ErrorRate\";\n",
       "                var nbb_formatted_code = \"%load_ext nb_black\\n%matplotlib inline\\n\\nimport numpy as np\\nimport pandas as pd\\nimport matplotlib.pyplot as plt\\nimport seaborn as sns\\nfrom sklearn.model_selection import train_test_split\\nfrom sklearn.pipeline import make_pipeline\\nfrom sklearn.preprocessing import MinMaxScaler\\nfrom sklearn.metrics import roc_auc_score, plot_confusion_matrix, classification_report\\nfrom sklearn.model_selection import cross_val_score\\nfrom sklearn.linear_model import LogisticRegression\\nfrom sklearn.ensemble import RandomForestClassifier\\nimport ipywidgets as widgets\\n\\n\\nfrom fairlearn.reductions import GridSearch\\nfrom fairlearn.reductions import DemographicParity, ErrorRate\";\n",
       "                var nbb_cells = Jupyter.notebook.get_cells();\n",
       "                for (var i = 0; i < nbb_cells.length; ++i) {\n",
       "                    if (nbb_cells[i].input_prompt_number == nbb_cell_id) {\n",
       "                        if (nbb_cells[i].get_text() == nbb_unformatted_code) {\n",
       "                             nbb_cells[i].set_text(nbb_formatted_code);\n",
       "                        }\n",
       "                        break;\n",
       "                    }\n",
       "                }\n",
       "            }, 500);\n",
       "            "
      ],
      "text/plain": [
       "<IPython.core.display.Javascript object>"
      ]
     },
     "metadata": {},
     "output_type": "display_data"
    }
   ],
   "source": [
    "%load_ext nb_black\n",
    "%matplotlib inline\n",
    "\n",
    "import numpy as np\n",
    "import pandas as pd\n",
    "import matplotlib.pyplot as plt\n",
    "import seaborn as sns\n",
    "from sklearn.model_selection import train_test_split\n",
    "from sklearn.pipeline import make_pipeline\n",
    "from sklearn.preprocessing import MinMaxScaler\n",
    "from sklearn.metrics import roc_auc_score, plot_confusion_matrix, classification_report\n",
    "from sklearn.model_selection import cross_val_score\n",
    "from sklearn.linear_model import LogisticRegression\n",
    "from sklearn.ensemble import RandomForestClassifier\n",
    "import ipywidgets as widgets\n",
    "\n",
    "\n",
    "from fairlearn.reductions import GridSearch\n",
    "from fairlearn.reductions import DemographicParity, ErrorRate\n"
   ]
  },
  {
   "cell_type": "code",
   "execution_count": 2,
   "metadata": {},
   "outputs": [
    {
     "data": {
      "text/html": [
       "<div>\n",
       "<style scoped>\n",
       "    .dataframe tbody tr th:only-of-type {\n",
       "        vertical-align: middle;\n",
       "    }\n",
       "\n",
       "    .dataframe tbody tr th {\n",
       "        vertical-align: top;\n",
       "    }\n",
       "\n",
       "    .dataframe thead th {\n",
       "        text-align: right;\n",
       "    }\n",
       "</style>\n",
       "<table border=\"1\" class=\"dataframe\">\n",
       "  <thead>\n",
       "    <tr style=\"text-align: right;\">\n",
       "      <th></th>\n",
       "      <th>school</th>\n",
       "      <th>sex</th>\n",
       "      <th>age</th>\n",
       "      <th>address</th>\n",
       "      <th>famsize</th>\n",
       "      <th>Pstatus</th>\n",
       "      <th>Medu</th>\n",
       "      <th>Fedu</th>\n",
       "      <th>Mjob</th>\n",
       "      <th>Fjob</th>\n",
       "      <th>...</th>\n",
       "      <th>famrel</th>\n",
       "      <th>freetime</th>\n",
       "      <th>goout</th>\n",
       "      <th>Dalc</th>\n",
       "      <th>Walc</th>\n",
       "      <th>health</th>\n",
       "      <th>absences</th>\n",
       "      <th>G1</th>\n",
       "      <th>G2</th>\n",
       "      <th>G3</th>\n",
       "    </tr>\n",
       "  </thead>\n",
       "  <tbody>\n",
       "    <tr>\n",
       "      <th>0</th>\n",
       "      <td>GP</td>\n",
       "      <td>F</td>\n",
       "      <td>18</td>\n",
       "      <td>U</td>\n",
       "      <td>GT3</td>\n",
       "      <td>A</td>\n",
       "      <td>4</td>\n",
       "      <td>4</td>\n",
       "      <td>at_home</td>\n",
       "      <td>teacher</td>\n",
       "      <td>...</td>\n",
       "      <td>4</td>\n",
       "      <td>3</td>\n",
       "      <td>4</td>\n",
       "      <td>1</td>\n",
       "      <td>1</td>\n",
       "      <td>3</td>\n",
       "      <td>6</td>\n",
       "      <td>5</td>\n",
       "      <td>6</td>\n",
       "      <td>6</td>\n",
       "    </tr>\n",
       "    <tr>\n",
       "      <th>1</th>\n",
       "      <td>GP</td>\n",
       "      <td>F</td>\n",
       "      <td>17</td>\n",
       "      <td>U</td>\n",
       "      <td>GT3</td>\n",
       "      <td>T</td>\n",
       "      <td>1</td>\n",
       "      <td>1</td>\n",
       "      <td>at_home</td>\n",
       "      <td>other</td>\n",
       "      <td>...</td>\n",
       "      <td>5</td>\n",
       "      <td>3</td>\n",
       "      <td>3</td>\n",
       "      <td>1</td>\n",
       "      <td>1</td>\n",
       "      <td>3</td>\n",
       "      <td>4</td>\n",
       "      <td>5</td>\n",
       "      <td>5</td>\n",
       "      <td>6</td>\n",
       "    </tr>\n",
       "    <tr>\n",
       "      <th>2</th>\n",
       "      <td>GP</td>\n",
       "      <td>F</td>\n",
       "      <td>15</td>\n",
       "      <td>U</td>\n",
       "      <td>LE3</td>\n",
       "      <td>T</td>\n",
       "      <td>1</td>\n",
       "      <td>1</td>\n",
       "      <td>at_home</td>\n",
       "      <td>other</td>\n",
       "      <td>...</td>\n",
       "      <td>4</td>\n",
       "      <td>3</td>\n",
       "      <td>2</td>\n",
       "      <td>2</td>\n",
       "      <td>3</td>\n",
       "      <td>3</td>\n",
       "      <td>10</td>\n",
       "      <td>7</td>\n",
       "      <td>8</td>\n",
       "      <td>10</td>\n",
       "    </tr>\n",
       "    <tr>\n",
       "      <th>3</th>\n",
       "      <td>GP</td>\n",
       "      <td>F</td>\n",
       "      <td>15</td>\n",
       "      <td>U</td>\n",
       "      <td>GT3</td>\n",
       "      <td>T</td>\n",
       "      <td>4</td>\n",
       "      <td>2</td>\n",
       "      <td>health</td>\n",
       "      <td>services</td>\n",
       "      <td>...</td>\n",
       "      <td>3</td>\n",
       "      <td>2</td>\n",
       "      <td>2</td>\n",
       "      <td>1</td>\n",
       "      <td>1</td>\n",
       "      <td>5</td>\n",
       "      <td>2</td>\n",
       "      <td>15</td>\n",
       "      <td>14</td>\n",
       "      <td>15</td>\n",
       "    </tr>\n",
       "    <tr>\n",
       "      <th>4</th>\n",
       "      <td>GP</td>\n",
       "      <td>F</td>\n",
       "      <td>16</td>\n",
       "      <td>U</td>\n",
       "      <td>GT3</td>\n",
       "      <td>T</td>\n",
       "      <td>3</td>\n",
       "      <td>3</td>\n",
       "      <td>other</td>\n",
       "      <td>other</td>\n",
       "      <td>...</td>\n",
       "      <td>4</td>\n",
       "      <td>3</td>\n",
       "      <td>2</td>\n",
       "      <td>1</td>\n",
       "      <td>2</td>\n",
       "      <td>5</td>\n",
       "      <td>4</td>\n",
       "      <td>6</td>\n",
       "      <td>10</td>\n",
       "      <td>10</td>\n",
       "    </tr>\n",
       "  </tbody>\n",
       "</table>\n",
       "<p>5 rows × 33 columns</p>\n",
       "</div>"
      ],
      "text/plain": [
       "  school sex  age address famsize Pstatus  Medu  Fedu     Mjob      Fjob  ...  \\\n",
       "0     GP   F   18       U     GT3       A     4     4  at_home   teacher  ...   \n",
       "1     GP   F   17       U     GT3       T     1     1  at_home     other  ...   \n",
       "2     GP   F   15       U     LE3       T     1     1  at_home     other  ...   \n",
       "3     GP   F   15       U     GT3       T     4     2   health  services  ...   \n",
       "4     GP   F   16       U     GT3       T     3     3    other     other  ...   \n",
       "\n",
       "  famrel freetime  goout  Dalc  Walc health absences  G1  G2  G3  \n",
       "0      4        3      4     1     1      3        6   5   6   6  \n",
       "1      5        3      3     1     1      3        4   5   5   6  \n",
       "2      4        3      2     2     3      3       10   7   8  10  \n",
       "3      3        2      2     1     1      5        2  15  14  15  \n",
       "4      4        3      2     1     2      5        4   6  10  10  \n",
       "\n",
       "[5 rows x 33 columns]"
      ]
     },
     "execution_count": 2,
     "metadata": {},
     "output_type": "execute_result"
    },
    {
     "data": {
      "application/javascript": [
       "\n",
       "            setTimeout(function() {\n",
       "                var nbb_cell_id = 2;\n",
       "                var nbb_unformatted_code = \"df_raw = pd.read_csv(\\\"../data/student-math.csv\\\")\\ndf_raw.head()\";\n",
       "                var nbb_formatted_code = \"df_raw = pd.read_csv(\\\"../data/student-math.csv\\\")\\ndf_raw.head()\";\n",
       "                var nbb_cells = Jupyter.notebook.get_cells();\n",
       "                for (var i = 0; i < nbb_cells.length; ++i) {\n",
       "                    if (nbb_cells[i].input_prompt_number == nbb_cell_id) {\n",
       "                        if (nbb_cells[i].get_text() == nbb_unformatted_code) {\n",
       "                             nbb_cells[i].set_text(nbb_formatted_code);\n",
       "                        }\n",
       "                        break;\n",
       "                    }\n",
       "                }\n",
       "            }, 500);\n",
       "            "
      ],
      "text/plain": [
       "<IPython.core.display.Javascript object>"
      ]
     },
     "metadata": {},
     "output_type": "display_data"
    }
   ],
   "source": [
    "df_raw = pd.read_csv(\"../data/student-math.csv\")\n",
    "df_raw.head()"
   ]
  },
  {
   "cell_type": "markdown",
   "metadata": {},
   "source": [
    "### Protected attributes: `sex` & `internet`\n",
    "\n",
    "`internet` (whether a student has internet access) could be a proxy for socio-economic status"
   ]
  },
  {
   "cell_type": "code",
   "execution_count": 3,
   "metadata": {},
   "outputs": [
    {
     "data": {
      "application/javascript": [
       "\n",
       "            setTimeout(function() {\n",
       "                var nbb_cell_id = 3;\n",
       "                var nbb_unformatted_code = \"A = df_raw[[\\\"sex\\\", \\\"internet\\\"]]\\ndf = df_raw.copy()\\ndf.drop([\\\"sex\\\", \\\"internet\\\"], axis=1, inplace=True)\";\n",
       "                var nbb_formatted_code = \"A = df_raw[[\\\"sex\\\", \\\"internet\\\"]]\\ndf = df_raw.copy()\\ndf.drop([\\\"sex\\\", \\\"internet\\\"], axis=1, inplace=True)\";\n",
       "                var nbb_cells = Jupyter.notebook.get_cells();\n",
       "                for (var i = 0; i < nbb_cells.length; ++i) {\n",
       "                    if (nbb_cells[i].input_prompt_number == nbb_cell_id) {\n",
       "                        if (nbb_cells[i].get_text() == nbb_unformatted_code) {\n",
       "                             nbb_cells[i].set_text(nbb_formatted_code);\n",
       "                        }\n",
       "                        break;\n",
       "                    }\n",
       "                }\n",
       "            }, 500);\n",
       "            "
      ],
      "text/plain": [
       "<IPython.core.display.Javascript object>"
      ]
     },
     "metadata": {},
     "output_type": "display_data"
    }
   ],
   "source": [
    "A = df_raw[[\"sex\", \"internet\"]]\n",
    "df = df_raw.copy()\n",
    "df.drop([\"sex\", \"internet\"], axis=1, inplace=True)"
   ]
  },
  {
   "cell_type": "code",
   "execution_count": 4,
   "metadata": {},
   "outputs": [
    {
     "data": {
      "application/javascript": [
       "\n",
       "            setTimeout(function() {\n",
       "                var nbb_cell_id = 4;\n",
       "                var nbb_unformatted_code = \"num_cols = [\\\"G3\\\", \\\"age\\\", \\\"absences\\\", \\\"G1\\\", \\\"G2\\\"]\";\n",
       "                var nbb_formatted_code = \"num_cols = [\\\"G3\\\", \\\"age\\\", \\\"absences\\\", \\\"G1\\\", \\\"G2\\\"]\";\n",
       "                var nbb_cells = Jupyter.notebook.get_cells();\n",
       "                for (var i = 0; i < nbb_cells.length; ++i) {\n",
       "                    if (nbb_cells[i].input_prompt_number == nbb_cell_id) {\n",
       "                        if (nbb_cells[i].get_text() == nbb_unformatted_code) {\n",
       "                             nbb_cells[i].set_text(nbb_formatted_code);\n",
       "                        }\n",
       "                        break;\n",
       "                    }\n",
       "                }\n",
       "            }, 500);\n",
       "            "
      ],
      "text/plain": [
       "<IPython.core.display.Javascript object>"
      ]
     },
     "metadata": {},
     "output_type": "display_data"
    }
   ],
   "source": [
    "num_cols = [\"G3\", \"age\", \"absences\", \"G1\", \"G2\"]"
   ]
  },
  {
   "cell_type": "code",
   "execution_count": 5,
   "metadata": {},
   "outputs": [
    {
     "data": {
      "application/javascript": [
       "\n",
       "            setTimeout(function() {\n",
       "                var nbb_cell_id = 5;\n",
       "                var nbb_unformatted_code = \"cat_cols = []\\n\\nfor column in df.columns:\\n    if column not in num_cols:\\n        cat_cols.append(column)\";\n",
       "                var nbb_formatted_code = \"cat_cols = []\\n\\nfor column in df.columns:\\n    if column not in num_cols:\\n        cat_cols.append(column)\";\n",
       "                var nbb_cells = Jupyter.notebook.get_cells();\n",
       "                for (var i = 0; i < nbb_cells.length; ++i) {\n",
       "                    if (nbb_cells[i].input_prompt_number == nbb_cell_id) {\n",
       "                        if (nbb_cells[i].get_text() == nbb_unformatted_code) {\n",
       "                             nbb_cells[i].set_text(nbb_formatted_code);\n",
       "                        }\n",
       "                        break;\n",
       "                    }\n",
       "                }\n",
       "            }, 500);\n",
       "            "
      ],
      "text/plain": [
       "<IPython.core.display.Javascript object>"
      ]
     },
     "metadata": {},
     "output_type": "display_data"
    }
   ],
   "source": [
    "cat_cols = []\n",
    "\n",
    "for column in df.columns:\n",
    "    if column not in num_cols:\n",
    "        cat_cols.append(column)"
   ]
  },
  {
   "cell_type": "code",
   "execution_count": 6,
   "metadata": {},
   "outputs": [
    {
     "data": {
      "application/javascript": [
       "\n",
       "            setTimeout(function() {\n",
       "                var nbb_cell_id = 6;\n",
       "                var nbb_unformatted_code = \"for column in cat_cols:\\n    df[column] = df[column].astype(\\\"category\\\")\";\n",
       "                var nbb_formatted_code = \"for column in cat_cols:\\n    df[column] = df[column].astype(\\\"category\\\")\";\n",
       "                var nbb_cells = Jupyter.notebook.get_cells();\n",
       "                for (var i = 0; i < nbb_cells.length; ++i) {\n",
       "                    if (nbb_cells[i].input_prompt_number == nbb_cell_id) {\n",
       "                        if (nbb_cells[i].get_text() == nbb_unformatted_code) {\n",
       "                             nbb_cells[i].set_text(nbb_formatted_code);\n",
       "                        }\n",
       "                        break;\n",
       "                    }\n",
       "                }\n",
       "            }, 500);\n",
       "            "
      ],
      "text/plain": [
       "<IPython.core.display.Javascript object>"
      ]
     },
     "metadata": {},
     "output_type": "display_data"
    }
   ],
   "source": [
    "for column in cat_cols:\n",
    "    df[column] = df[column].astype(\"category\")"
   ]
  },
  {
   "cell_type": "markdown",
   "metadata": {},
   "source": [
    "## Change target to binary"
   ]
  },
  {
   "cell_type": "code",
   "execution_count": 7,
   "metadata": {},
   "outputs": [
    {
     "data": {
      "application/javascript": [
       "\n",
       "            setTimeout(function() {\n",
       "                var nbb_cell_id = 7;\n",
       "                var nbb_unformatted_code = \"# make target binary - above mean\\n\\nfor idx, grade in enumerate(df[\\\"G3\\\"]):\\n    if grade > df[\\\"G3\\\"].mean():\\n        df.loc[idx, \\\"target\\\"] = 1\\n    else:\\n        df.loc[idx, \\\"target\\\"] = 0\";\n",
       "                var nbb_formatted_code = \"# make target binary - above mean\\n\\nfor idx, grade in enumerate(df[\\\"G3\\\"]):\\n    if grade > df[\\\"G3\\\"].mean():\\n        df.loc[idx, \\\"target\\\"] = 1\\n    else:\\n        df.loc[idx, \\\"target\\\"] = 0\";\n",
       "                var nbb_cells = Jupyter.notebook.get_cells();\n",
       "                for (var i = 0; i < nbb_cells.length; ++i) {\n",
       "                    if (nbb_cells[i].input_prompt_number == nbb_cell_id) {\n",
       "                        if (nbb_cells[i].get_text() == nbb_unformatted_code) {\n",
       "                             nbb_cells[i].set_text(nbb_formatted_code);\n",
       "                        }\n",
       "                        break;\n",
       "                    }\n",
       "                }\n",
       "            }, 500);\n",
       "            "
      ],
      "text/plain": [
       "<IPython.core.display.Javascript object>"
      ]
     },
     "metadata": {},
     "output_type": "display_data"
    }
   ],
   "source": [
    "# make target \"G3\" (final grades) binary - above mean\n",
    "\n",
    "for idx, grade in enumerate(df[\"G3\"]):\n",
    "    if grade > df[\"G3\"].mean():\n",
    "        df.loc[idx, \"target\"] = 1\n",
    "    else:\n",
    "        df.loc[idx, \"target\"] = 0"
   ]
  },
  {
   "cell_type": "code",
   "execution_count": 8,
   "metadata": {},
   "outputs": [
    {
     "data": {
      "text/plain": [
       "<matplotlib.axes._subplots.AxesSubplot at 0x7f9d710ae5b0>"
      ]
     },
     "execution_count": 8,
     "metadata": {},
     "output_type": "execute_result"
    },
    {
     "data": {
      "image/png": "[encoded data removed]",
      "text/plain": [
       "<Figure size 432x288 with 1 Axes>"
      ]
     },
     "metadata": {
      "needs_background": "light"
     },
     "output_type": "display_data"
    },
    {
     "data": {
      "application/javascript": [
       "\n",
       "            setTimeout(function() {\n",
       "                var nbb_cell_id = 8;\n",
       "                var nbb_unformatted_code = \"# target\\nsns.countplot(\\\"target\\\", data=df)\";\n",
       "                var nbb_formatted_code = \"# target\\nsns.countplot(\\\"target\\\", data=df)\";\n",
       "                var nbb_cells = Jupyter.notebook.get_cells();\n",
       "                for (var i = 0; i < nbb_cells.length; ++i) {\n",
       "                    if (nbb_cells[i].input_prompt_number == nbb_cell_id) {\n",
       "                        if (nbb_cells[i].get_text() == nbb_unformatted_code) {\n",
       "                             nbb_cells[i].set_text(nbb_formatted_code);\n",
       "                        }\n",
       "                        break;\n",
       "                    }\n",
       "                }\n",
       "            }, 500);\n",
       "            "
      ],
      "text/plain": [
       "<IPython.core.display.Javascript object>"
      ]
     },
     "metadata": {},
     "output_type": "display_data"
    }
   ],
   "source": [
    "# target\n",
    "sns.countplot(\"target\", data=df)"
   ]
  },
  {
   "cell_type": "markdown",
   "metadata": {},
   "source": [
    "## Create feature matrix and target series, encode + split data"
   ]
  },
  {
   "cell_type": "code",
   "execution_count": 9,
   "metadata": {},
   "outputs": [
    {
     "data": {
      "application/javascript": [
       "\n",
       "            setTimeout(function() {\n",
       "                var nbb_cell_id = 9;\n",
       "                var nbb_unformatted_code = \"def encode_split_data(\\n    cat_features,\\n    data,\\n    target_series,\\n    protected_attribute,\\n    train_size,\\n    random_state=None,\\n):\\n    df_working_copy = data.copy()\\n\\n    features_dummy = pd.get_dummies(df_working_copy[cat_features], drop_first=True)\\n\\n    cont_features = [col for col in data.columns if not col in cat_features]\\n\\n    features_encoded = pd.concat(\\n        [df_working_copy[cont_features], features_dummy], axis=1\\n    )\\n\\n    from sklearn.model_selection import train_test_split\\n\\n    (\\n        features_train,\\n        features_test,\\n        target_train,\\n        target_test,\\n        A_train,\\n        A_test,\\n    ) = train_test_split(\\n        features_encoded,\\n        target_series,\\n        protected_attribute,\\n        train_size=train_size,\\n        random_state=random_state,\\n    )\\n\\n    return features_train, features_test, target_train, target_test, A_train, A_test\";\n",
       "                var nbb_formatted_code = \"def encode_split_data(\\n    cat_features,\\n    data,\\n    target_series,\\n    protected_attribute,\\n    train_size,\\n    random_state=None,\\n):\\n    df_working_copy = data.copy()\\n\\n    features_dummy = pd.get_dummies(df_working_copy[cat_features], drop_first=True)\\n\\n    cont_features = [col for col in data.columns if not col in cat_features]\\n\\n    features_encoded = pd.concat(\\n        [df_working_copy[cont_features], features_dummy], axis=1\\n    )\\n\\n    from sklearn.model_selection import train_test_split\\n\\n    (\\n        features_train,\\n        features_test,\\n        target_train,\\n        target_test,\\n        A_train,\\n        A_test,\\n    ) = train_test_split(\\n        features_encoded,\\n        target_series,\\n        protected_attribute,\\n        train_size=train_size,\\n        random_state=random_state,\\n    )\\n\\n    return features_train, features_test, target_train, target_test, A_train, A_test\";\n",
       "                var nbb_cells = Jupyter.notebook.get_cells();\n",
       "                for (var i = 0; i < nbb_cells.length; ++i) {\n",
       "                    if (nbb_cells[i].input_prompt_number == nbb_cell_id) {\n",
       "                        if (nbb_cells[i].get_text() == nbb_unformatted_code) {\n",
       "                             nbb_cells[i].set_text(nbb_formatted_code);\n",
       "                        }\n",
       "                        break;\n",
       "                    }\n",
       "                }\n",
       "            }, 500);\n",
       "            "
      ],
      "text/plain": [
       "<IPython.core.display.Javascript object>"
      ]
     },
     "metadata": {},
     "output_type": "display_data"
    }
   ],
   "source": [
    "def encode_split_data(\n",
    "    cat_features,\n",
    "    data,\n",
    "    target_series,\n",
    "    protected_attribute,\n",
    "    train_size,\n",
    "    random_state=None,\n",
    "):\n",
    "    df_working_copy = data.copy()\n",
    "\n",
    "    features_dummy = pd.get_dummies(df_working_copy[cat_features], drop_first=True)\n",
    "\n",
    "    cont_features = [col for col in data.columns if not col in cat_features]\n",
    "\n",
    "    features_encoded = pd.concat(\n",
    "        [df_working_copy[cont_features], features_dummy], axis=1\n",
    "    )\n",
    "\n",
    "    from sklearn.model_selection import train_test_split\n",
    "\n",
    "    (\n",
    "        features_train,\n",
    "        features_test,\n",
    "        target_train,\n",
    "        target_test,\n",
    "        A_train,\n",
    "        A_test,\n",
    "    ) = train_test_split(\n",
    "        features_encoded,\n",
    "        target_series,\n",
    "        protected_attribute,\n",
    "        train_size=train_size,\n",
    "        random_state=random_state,\n",
    "    )\n",
    "\n",
    "    return features_train, features_test, target_train, target_test, A_train, A_test"
   ]
  },
  {
   "cell_type": "code",
   "execution_count": 10,
   "metadata": {},
   "outputs": [
    {
     "data": {
      "application/javascript": [
       "\n",
       "            setTimeout(function() {\n",
       "                var nbb_cell_id = 10;\n",
       "                var nbb_unformatted_code = \"target = df[\\\"target\\\"]\";\n",
       "                var nbb_formatted_code = \"target = df[\\\"target\\\"]\";\n",
       "                var nbb_cells = Jupyter.notebook.get_cells();\n",
       "                for (var i = 0; i < nbb_cells.length; ++i) {\n",
       "                    if (nbb_cells[i].input_prompt_number == nbb_cell_id) {\n",
       "                        if (nbb_cells[i].get_text() == nbb_unformatted_code) {\n",
       "                             nbb_cells[i].set_text(nbb_formatted_code);\n",
       "                        }\n",
       "                        break;\n",
       "                    }\n",
       "                }\n",
       "            }, 500);\n",
       "            "
      ],
      "text/plain": [
       "<IPython.core.display.Javascript object>"
      ]
     },
     "metadata": {},
     "output_type": "display_data"
    }
   ],
   "source": [
    "target = df[\"target\"]"
   ]
  },
  {
   "cell_type": "code",
   "execution_count": 11,
   "metadata": {},
   "outputs": [
    {
     "data": {
      "application/javascript": [
       "\n",
       "            setTimeout(function() {\n",
       "                var nbb_cell_id = 11;\n",
       "                var nbb_unformatted_code = \"features = df[df.columns.difference([\\\"G1\\\", \\\"G2\\\", \\\"G3\\\", \\\"target\\\"])]\\n# features = df[[\\\"absences\\\", \\\"goout\\\", \\\"age\\\", \\\"studytime\\\"]]\";\n",
       "                var nbb_formatted_code = \"features = df[df.columns.difference([\\\"G1\\\", \\\"G2\\\", \\\"G3\\\", \\\"target\\\"])]\\n# features = df[[\\\"absences\\\", \\\"goout\\\", \\\"age\\\", \\\"studytime\\\"]]\";\n",
       "                var nbb_cells = Jupyter.notebook.get_cells();\n",
       "                for (var i = 0; i < nbb_cells.length; ++i) {\n",
       "                    if (nbb_cells[i].input_prompt_number == nbb_cell_id) {\n",
       "                        if (nbb_cells[i].get_text() == nbb_unformatted_code) {\n",
       "                             nbb_cells[i].set_text(nbb_formatted_code);\n",
       "                        }\n",
       "                        break;\n",
       "                    }\n",
       "                }\n",
       "            }, 500);\n",
       "            "
      ],
      "text/plain": [
       "<IPython.core.display.Javascript object>"
      ]
     },
     "metadata": {},
     "output_type": "display_data"
    }
   ],
   "source": [
    "# excluding \"G1\" and \"G2\" because they correlated highly with `target`\n",
    "features = df[df.columns.difference([\"G1\", \"G2\", \"G3\", \"target\"])]"
   ]
  },
  {
   "cell_type": "code",
   "execution_count": 12,
   "metadata": {},
   "outputs": [
    {
     "data": {
      "application/javascript": [
       "\n",
       "            setTimeout(function() {\n",
       "                var nbb_cell_id = 12;\n",
       "                var nbb_unformatted_code = \"(\\n    features_train,\\n    features_test,\\n    target_train,\\n    target_test,\\n    A_train,\\n    A_test,\\n) = encode_split_data(\\n    cat_features=cat_cols,\\n    data=features,\\n    target_series=target,\\n    protected_attribute=A,\\n    train_size=0.7,\\n    random_state=42,\\n)\";\n",
       "                var nbb_formatted_code = \"(\\n    features_train,\\n    features_test,\\n    target_train,\\n    target_test,\\n    A_train,\\n    A_test,\\n) = encode_split_data(\\n    cat_features=cat_cols,\\n    data=features,\\n    target_series=target,\\n    protected_attribute=A,\\n    train_size=0.7,\\n    random_state=42,\\n)\";\n",
       "                var nbb_cells = Jupyter.notebook.get_cells();\n",
       "                for (var i = 0; i < nbb_cells.length; ++i) {\n",
       "                    if (nbb_cells[i].input_prompt_number == nbb_cell_id) {\n",
       "                        if (nbb_cells[i].get_text() == nbb_unformatted_code) {\n",
       "                             nbb_cells[i].set_text(nbb_formatted_code);\n",
       "                        }\n",
       "                        break;\n",
       "                    }\n",
       "                }\n",
       "            }, 500);\n",
       "            "
      ],
      "text/plain": [
       "<IPython.core.display.Javascript object>"
      ]
     },
     "metadata": {},
     "output_type": "display_data"
    }
   ],
   "source": [
    "(\n",
    "    features_train,\n",
    "    features_test,\n",
    "    target_train,\n",
    "    target_test,\n",
    "    A_train,\n",
    "    A_test,\n",
    ") = encode_split_data(\n",
    "    cat_features=cat_cols,\n",
    "    data=features,\n",
    "    target_series=target,\n",
    "    protected_attribute=A,\n",
    "    train_size=0.7,\n",
    "    random_state=42,\n",
    ")"
   ]
  },
  {
   "cell_type": "code",
   "execution_count": 13,
   "metadata": {},
   "outputs": [
    {
     "data": {
      "application/javascript": [
       "\n",
       "            setTimeout(function() {\n",
       "                var nbb_cell_id = 13;\n",
       "                var nbb_unformatted_code = \"# scale features\\nfeatures_train_scaled = MinMaxScaler().fit_transform(features_train)\\nfeatures_test_scaled = MinMaxScaler().fit_transform(features_test)\";\n",
       "                var nbb_formatted_code = \"# scale features\\nfeatures_train_scaled = MinMaxScaler().fit_transform(features_train)\\nfeatures_test_scaled = MinMaxScaler().fit_transform(features_test)\";\n",
       "                var nbb_cells = Jupyter.notebook.get_cells();\n",
       "                for (var i = 0; i < nbb_cells.length; ++i) {\n",
       "                    if (nbb_cells[i].input_prompt_number == nbb_cell_id) {\n",
       "                        if (nbb_cells[i].get_text() == nbb_unformatted_code) {\n",
       "                             nbb_cells[i].set_text(nbb_formatted_code);\n",
       "                        }\n",
       "                        break;\n",
       "                    }\n",
       "                }\n",
       "            }, 500);\n",
       "            "
      ],
      "text/plain": [
       "<IPython.core.display.Javascript object>"
      ]
     },
     "metadata": {},
     "output_type": "display_data"
    }
   ],
   "source": [
    "# scale features\n",
    "features_train_scaled = MinMaxScaler().fit_transform(features_train)\n",
    "features_test_scaled = MinMaxScaler().fit_transform(features_test)"
   ]
  },
  {
   "cell_type": "markdown",
   "metadata": {},
   "source": [
    "## Logistic regression"
   ]
  },
  {
   "cell_type": "code",
   "execution_count": 14,
   "metadata": {},
   "outputs": [
    {
     "data": {
      "text/plain": [
       "LogisticRegression(class_weight='balanced', max_iter=1000, random_state=42)"
      ]
     },
     "execution_count": 14,
     "metadata": {},
     "output_type": "execute_result"
    },
    {
     "data": {
      "application/javascript": [
       "\n",
       "            setTimeout(function() {\n",
       "                var nbb_cell_id = 14;\n",
       "                var nbb_unformatted_code = \"# model\\n\\nlr = LogisticRegression(class_weight=\\\"balanced\\\", random_state=42, max_iter=1000)\\nlr.fit(features_train, target_train)\";\n",
       "                var nbb_formatted_code = \"# model\\n\\nlr = LogisticRegression(class_weight=\\\"balanced\\\", random_state=42, max_iter=1000)\\nlr.fit(features_train, target_train)\";\n",
       "                var nbb_cells = Jupyter.notebook.get_cells();\n",
       "                for (var i = 0; i < nbb_cells.length; ++i) {\n",
       "                    if (nbb_cells[i].input_prompt_number == nbb_cell_id) {\n",
       "                        if (nbb_cells[i].get_text() == nbb_unformatted_code) {\n",
       "                             nbb_cells[i].set_text(nbb_formatted_code);\n",
       "                        }\n",
       "                        break;\n",
       "                    }\n",
       "                }\n",
       "            }, 500);\n",
       "            "
      ],
      "text/plain": [
       "<IPython.core.display.Javascript object>"
      ]
     },
     "metadata": {},
     "output_type": "display_data"
    }
   ],
   "source": [
    "# model\n",
    "\n",
    "lr = LogisticRegression(class_weight=\"balanced\", random_state=42, max_iter=1000)\n",
    "lr.fit(features_train, target_train)"
   ]
  },
  {
   "cell_type": "code",
   "execution_count": 15,
   "metadata": {
    "scrolled": true
   },
   "outputs": [
    {
     "data": {
      "application/vnd.jupyter.widget-view+json": {
       "model_id": "c397001dd1534ac4a47b2ae7fceda97f",
       "version_major": 2,
       "version_minor": 0
      },
      "text/plain": [
       "FairlearnWidget(value={'true_y': [0.0, 1.0, 0.0, 0.0, 0.0, 1.0, 1.0, 0.0, 0.0, 1.0, 1.0, 0.0, 1.0, 0.0, 1.0, 0…"
      ]
     },
     "metadata": {},
     "output_type": "display_data"
    },
    {
     "data": {
      "text/plain": [
       "<fairlearn.widget._fairlearn_dashboard.FairlearnDashboard at 0x7f9d70836940>"
      ]
     },
     "execution_count": 15,
     "metadata": {},
     "output_type": "execute_result"
    },
    {
     "data": {
      "application/javascript": [
       "\n",
       "            setTimeout(function() {\n",
       "                var nbb_cell_id = 15;\n",
       "                var nbb_unformatted_code = \"from fairlearn.widget import FairlearnDashboard\\n\\nFairlearnDashboard(\\n    sensitive_features=A_test,\\n    sensitive_feature_names=[\\\"sex\\\", \\\"internet\\\"],\\n    y_true=target_test,\\n    y_pred={\\\"unmitigated\\\": lr.predict(features_test)},\\n)\";\n",
       "                var nbb_formatted_code = \"from fairlearn.widget import FairlearnDashboard\\n\\nFairlearnDashboard(\\n    sensitive_features=A_test,\\n    sensitive_feature_names=[\\\"sex\\\", \\\"internet\\\"],\\n    y_true=target_test,\\n    y_pred={\\\"unmitigated\\\": lr.predict(features_test)},\\n)\";\n",
       "                var nbb_cells = Jupyter.notebook.get_cells();\n",
       "                for (var i = 0; i < nbb_cells.length; ++i) {\n",
       "                    if (nbb_cells[i].input_prompt_number == nbb_cell_id) {\n",
       "                        if (nbb_cells[i].get_text() == nbb_unformatted_code) {\n",
       "                             nbb_cells[i].set_text(nbb_formatted_code);\n",
       "                        }\n",
       "                        break;\n",
       "                    }\n",
       "                }\n",
       "            }, 500);\n",
       "            "
      ],
      "text/plain": [
       "<IPython.core.display.Javascript object>"
      ]
     },
     "metadata": {},
     "output_type": "display_data"
    }
   ],
   "source": [
    "from fairlearn.widget import FairlearnDashboard\n",
    "\n",
    "FairlearnDashboard(\n",
    "    sensitive_features=A_test,\n",
    "    sensitive_feature_names=[\"sex\", \"internet\"],\n",
    "    y_true=target_test,\n",
    "    y_pred={\"unmitigated\": lr.predict(features_test)},\n",
    ")"
   ]
  },
  {
   "cell_type": "code",
   "execution_count": 16,
   "metadata": {},
   "outputs": [
    {
     "name": "stdout",
     "output_type": "stream",
     "text": [
      "              precision    recall  f1-score   support\n",
      "\n",
      "         0.0       0.70      0.52      0.60        63\n",
      "         1.0       0.58      0.75      0.66        56\n",
      "\n",
      "    accuracy                           0.63       119\n",
      "   macro avg       0.64      0.64      0.63       119\n",
      "weighted avg       0.65      0.63      0.63       119\n",
      "\n",
      "ROC AUC Score is 0.7278911564625851\n",
      "Cross-validation scores: [0.59225806 0.63466667 0.58533333 0.6061828  0.62231183]\n",
      "Mean cross-validation score: 0.61\n"
     ]
    },
    {
     "data": {
      "image/png": "[encoded data removed]",
      "text/plain": [
       "<Figure size 432x288 with 2 Axes>"
      ]
     },
     "metadata": {
      "needs_background": "light"
     },
     "output_type": "display_data"
    },
    {
     "data": {
      "application/javascript": [
       "\n",
       "            setTimeout(function() {\n",
       "                var nbb_cell_id = 16;\n",
       "                var nbb_unformatted_code = \"target_pred = lr.predict(features_test)\\ntarget_pred_proba = lr.predict_proba(features_test)\\n\\n\\nprint(classification_report(target_test, target_pred))\\n\\nplot_confusion_matrix(lr, features_test, target_test)\\n\\nroc_auc = roc_auc_score(target_test, target_pred_proba[:, 1])\\nprint(f\\\"ROC AUC Score is {roc_auc}\\\")\\n\\n# cross validation\\ncv_score = cross_val_score(lr, features_train, target_train, scoring=\\\"roc_auc\\\")\\nmean_cv_score = round(np.mean(cv_score), 2)\\n\\nprint(f\\\"Cross-validation scores: {cv_score}\\\")\\nprint(f\\\"Mean cross-validation score: {mean_cv_score}\\\")\";\n",
       "                var nbb_formatted_code = \"target_pred = lr.predict(features_test)\\ntarget_pred_proba = lr.predict_proba(features_test)\\n\\n\\nprint(classification_report(target_test, target_pred))\\n\\nplot_confusion_matrix(lr, features_test, target_test)\\n\\nroc_auc = roc_auc_score(target_test, target_pred_proba[:, 1])\\nprint(f\\\"ROC AUC Score is {roc_auc}\\\")\\n\\n# cross validation\\ncv_score = cross_val_score(lr, features_train, target_train, scoring=\\\"roc_auc\\\")\\nmean_cv_score = round(np.mean(cv_score), 2)\\n\\nprint(f\\\"Cross-validation scores: {cv_score}\\\")\\nprint(f\\\"Mean cross-validation score: {mean_cv_score}\\\")\";\n",
       "                var nbb_cells = Jupyter.notebook.get_cells();\n",
       "                for (var i = 0; i < nbb_cells.length; ++i) {\n",
       "                    if (nbb_cells[i].input_prompt_number == nbb_cell_id) {\n",
       "                        if (nbb_cells[i].get_text() == nbb_unformatted_code) {\n",
       "                             nbb_cells[i].set_text(nbb_formatted_code);\n",
       "                        }\n",
       "                        break;\n",
       "                    }\n",
       "                }\n",
       "            }, 500);\n",
       "            "
      ],
      "text/plain": [
       "<IPython.core.display.Javascript object>"
      ]
     },
     "metadata": {},
     "output_type": "display_data"
    }
   ],
   "source": [
    "target_pred = lr.predict(features_test)\n",
    "target_pred_proba = lr.predict_proba(features_test)\n",
    "\n",
    "\n",
    "print(classification_report(target_test, target_pred))\n",
    "\n",
    "plot_confusion_matrix(lr, features_test, target_test)\n",
    "\n",
    "roc_auc = roc_auc_score(target_test, target_pred_proba[:, 1])\n",
    "print(f\"ROC AUC Score is {roc_auc}\")\n",
    "\n",
    "# cross validation\n",
    "cv_score = cross_val_score(lr, features_train, target_train, scoring=\"roc_auc\")\n",
    "mean_cv_score = round(np.mean(cv_score), 2)\n",
    "\n",
    "print(f\"Cross-validation scores: {cv_score}\")\n",
    "print(f\"Mean cross-validation score: {mean_cv_score}\")"
   ]
  },
  {
   "cell_type": "markdown",
   "metadata": {},
   "source": [
    "## Random Forest"
   ]
  },
  {
   "cell_type": "code",
   "execution_count": 17,
   "metadata": {},
   "outputs": [
    {
     "name": "stdout",
     "output_type": "stream",
     "text": [
      "['absences' 'age' 'goout_2' 'famsup_yes' 'Mjob_services' 'schoolsup_yes'\n",
      " 'freetime_3' 'romantic_yes' 'Medu_4' 'reason_reputation']\n",
      "[0.06274498 0.04371523 0.0267726  0.02335011 0.02223012 0.02141717\n",
      " 0.02059302 0.01907622 0.01890837 0.01871867]\n"
     ]
    },
    {
     "data": {
      "application/javascript": [
       "\n",
       "            setTimeout(function() {\n",
       "                var nbb_cell_id = 17;\n",
       "                var nbb_unformatted_code = \"from sklearn.ensemble import RandomForestClassifier\\n\\nmodel_rfi = RandomForestClassifier(n_estimators=100, random_state=42)\\nmodel_rfi.fit(features_train_scaled, target_train)\\nfs_indices_rfi = np.argsort(model_rfi.feature_importances_)[::-1][0:10]\\n\\nbest_features_rfi = features_train.columns[fs_indices_rfi].values\\nprint(best_features_rfi)\\n\\nfeature_importances_rfi = model_rfi.feature_importances_[fs_indices_rfi]\\nprint(feature_importances_rfi)\";\n",
       "                var nbb_formatted_code = \"from sklearn.ensemble import RandomForestClassifier\\n\\nmodel_rfi = RandomForestClassifier(n_estimators=100, random_state=42)\\nmodel_rfi.fit(features_train_scaled, target_train)\\nfs_indices_rfi = np.argsort(model_rfi.feature_importances_)[::-1][0:10]\\n\\nbest_features_rfi = features_train.columns[fs_indices_rfi].values\\nprint(best_features_rfi)\\n\\nfeature_importances_rfi = model_rfi.feature_importances_[fs_indices_rfi]\\nprint(feature_importances_rfi)\";\n",
       "                var nbb_cells = Jupyter.notebook.get_cells();\n",
       "                for (var i = 0; i < nbb_cells.length; ++i) {\n",
       "                    if (nbb_cells[i].input_prompt_number == nbb_cell_id) {\n",
       "                        if (nbb_cells[i].get_text() == nbb_unformatted_code) {\n",
       "                             nbb_cells[i].set_text(nbb_formatted_code);\n",
       "                        }\n",
       "                        break;\n",
       "                    }\n",
       "                }\n",
       "            }, 500);\n",
       "            "
      ],
      "text/plain": [
       "<IPython.core.display.Javascript object>"
      ]
     },
     "metadata": {},
     "output_type": "display_data"
    }
   ],
   "source": [
    "from sklearn.ensemble import RandomForestClassifier\n",
    "\n",
    "model_rfi = RandomForestClassifier(n_estimators=100, random_state=42)\n",
    "model_rfi.fit(features_train_scaled, target_train)\n",
    "fs_indices_rfi = np.argsort(model_rfi.feature_importances_)[::-1][0:10]\n",
    "\n",
    "best_features_rfi = features_train.columns[fs_indices_rfi].values\n",
    "print(best_features_rfi)\n",
    "\n",
    "feature_importances_rfi = model_rfi.feature_importances_[fs_indices_rfi]\n",
    "print(feature_importances_rfi)"
   ]
  },
  {
   "cell_type": "code",
   "execution_count": 18,
   "metadata": {
    "scrolled": true
   },
   "outputs": [
    {
     "data": {
      "application/vnd.jupyter.widget-view+json": {
       "model_id": "fa9279ee91b14102b0f85d91fb8795c0",
       "version_major": 2,
       "version_minor": 0
      },
      "text/plain": [
       "FairlearnWidget(value={'true_y': [0.0, 1.0, 0.0, 0.0, 0.0, 1.0, 1.0, 0.0, 0.0, 1.0, 1.0, 0.0, 1.0, 0.0, 1.0, 0…"
      ]
     },
     "metadata": {},
     "output_type": "display_data"
    },
    {
     "data": {
      "text/plain": [
       "<fairlearn.widget._fairlearn_dashboard.FairlearnDashboard at 0x7f9d70817250>"
      ]
     },
     "execution_count": 18,
     "metadata": {},
     "output_type": "execute_result"
    },
    {
     "data": {
      "application/javascript": [
       "\n",
       "            setTimeout(function() {\n",
       "                var nbb_cell_id = 18;\n",
       "                var nbb_unformatted_code = \"from fairlearn.widget import FairlearnDashboard\\n\\nFairlearnDashboard(\\n    sensitive_features=A_test,\\n    sensitive_feature_names=[\\\"sex\\\", \\\"internet\\\"],\\n    y_true=target_test,\\n    y_pred={\\\"unmitigated\\\": model_rfi.predict(features_test)},\\n)\";\n",
       "                var nbb_formatted_code = \"from fairlearn.widget import FairlearnDashboard\\n\\nFairlearnDashboard(\\n    sensitive_features=A_test,\\n    sensitive_feature_names=[\\\"sex\\\", \\\"internet\\\"],\\n    y_true=target_test,\\n    y_pred={\\\"unmitigated\\\": model_rfi.predict(features_test)},\\n)\";\n",
       "                var nbb_cells = Jupyter.notebook.get_cells();\n",
       "                for (var i = 0; i < nbb_cells.length; ++i) {\n",
       "                    if (nbb_cells[i].input_prompt_number == nbb_cell_id) {\n",
       "                        if (nbb_cells[i].get_text() == nbb_unformatted_code) {\n",
       "                             nbb_cells[i].set_text(nbb_formatted_code);\n",
       "                        }\n",
       "                        break;\n",
       "                    }\n",
       "                }\n",
       "            }, 500);\n",
       "            "
      ],
      "text/plain": [
       "<IPython.core.display.Javascript object>"
      ]
     },
     "metadata": {},
     "output_type": "display_data"
    }
   ],
   "source": [
    "from fairlearn.widget import FairlearnDashboard\n",
    "\n",
    "FairlearnDashboard(\n",
    "    sensitive_features=A_test,\n",
    "    sensitive_feature_names=[\"sex\", \"internet\"],\n",
    "    y_true=target_test,\n",
    "    y_pred={\"unmitigated\": model_rfi.predict(features_test)},\n",
    ")"
   ]
  }
 ],
 "metadata": {
  "kernelspec": {
   "display_name": "math_students",
   "language": "python",
   "name": "math_students"
  },
  "language_info": {
   "codemirror_mode": {
    "name": "ipython",
    "version": 3
   },
   "file_extension": ".py",
   "mimetype": "text/x-python",
   "name": "python",
   "nbconvert_exporter": "python",
   "pygments_lexer": "ipython3",
   "version": "3.8.3"
  }
 },
 "nbformat": 4,
 "nbformat_minor": 4
}
